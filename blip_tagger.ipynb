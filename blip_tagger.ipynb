{
 "cells": [
  {
   "cell_type": "markdown",
   "id": "e3cae56a-8dd6-4f5b-b086-9ca2a2f4d768",
   "metadata": {},
   "source": [
    "src: https://github.com/crosstyan/blip_helper"
   ]
  },
  {
   "cell_type": "markdown",
   "id": "023d06a3-2f7a-493c-84f5-bb2dbdd9699d",
   "metadata": {},
   "source": [
    "# Setup environment:"
   ]
  },
  {
   "cell_type": "markdown",
   "id": "41dbab94-7c28-4374-b3d9-a9337f5c86bb",
   "metadata": {},
   "source": [
    "run these lines in a bash console manually:\n",
    "```bash\n",
    "# install rust compiler\n",
    "curl https://sh.rustup.rs -sSf | sh\n",
    "\n",
    "# create conda environment\n",
    "conda create --name blip python=3.10 ipykernel\n",
    "conda activate blip\n",
    "ipython kernel install --user --name=blip\n",
    "\n",
    "# clone & install requirements\n",
    "cd ~/\n",
    "git clone https://github.com/crosstyan/blip_helper\n",
    "git submodule update --init --recursive\n",
    "pip install -r requirements.txt\n",
    "pip install repo/DeepDanbooru\n",
    "```"
   ]
  },
  {
   "cell_type": "markdown",
   "id": "16493139-f065-4ebf-bc6d-735d083538c2",
   "metadata": {},
   "source": [
    "# Run Blip tagger:"
   ]
  },
  {
   "cell_type": "markdown",
   "id": "ce2926ab-d62d-4d7a-9207-3e2cc63c9d55",
   "metadata": {},
   "source": [
    "use tagger: **in console only**"
   ]
  },
  {
   "cell_type": "code",
   "execution_count": null,
   "id": "f2ec30b1-10ff-4494-8f0a-9830831a7bce",
   "metadata": {},
   "outputs": [],
   "source": [
    "python run.py --path ~/notebooks/diffusions/prototyping/img"
   ]
  },
  {
   "cell_type": "code",
   "execution_count": null,
   "id": "ab2e0267-b235-4a3c-8722-1052ad2727ac",
   "metadata": {},
   "outputs": [],
   "source": [
    "# download trainsets\n",
    "BUCKET = \"sagemaker-sd-finetune\"\n",
    "\n",
    "ZIP_NAME = \"aesthetics.1280.zip\"\n",
    "AESTHETICS_ROUTE = \"datasets/prototype/\" + ZIP_NAME\n",
    "!aws s3api get-object --bucket $BUCKET --key $AESTHETICS_ROUTE $ZIP_NAME\n",
    "\n",
    "!unzip -q $ZIP_NAME"
   ]
  },
  {
   "cell_type": "code",
   "execution_count": null,
   "id": "52a7e7f6-d5ba-4f9b-9d55-e1c52088c608",
   "metadata": {},
   "outputs": [],
   "source": [
    "# remove existing txt files, might not be necessary:\n",
    "!rm -- *.txt"
   ]
  }
 ],
 "metadata": {
  "kernelspec": {
   "display_name": "Python 3",
   "language": "python",
   "name": "python3"
  },
  "language_info": {
   "codemirror_mode": {
    "name": "ipython",
    "version": 3
   },
   "file_extension": ".py",
   "mimetype": "text/x-python",
   "name": "python",
   "nbconvert_exporter": "python",
   "pygments_lexer": "ipython3",
   "version": "3.8.12"
  }
 },
 "nbformat": 4,
 "nbformat_minor": 5
}
